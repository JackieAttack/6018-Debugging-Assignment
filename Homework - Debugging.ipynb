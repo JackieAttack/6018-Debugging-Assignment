{
 "cells": [
  {
   "cell_type": "markdown",
   "id": "76012251",
   "metadata": {},
   "source": [
    "# Week 6 - Debugging Assignment\n",
    "### Jackie Bearnson  u0763123"
   ]
  },
  {
   "cell_type": "markdown",
   "id": "7ff4250e",
   "metadata": {},
   "source": [
    "-------"
   ]
  },
  {
   "cell_type": "code",
   "execution_count": 3,
   "id": "5ec28b07",
   "metadata": {},
   "outputs": [
    {
     "data": {
      "text/plain": [
       "[6, 9, 12]"
      ]
     },
     "execution_count": 3,
     "metadata": {},
     "output_type": "execute_result"
    }
   ],
   "source": [
    "def wrong_add_function(arg1,arg2):\n",
    "   '''\n",
    "   The function takes in two lists of integers, then it adds\n",
    "   all of arg2 to each item of arg1.\n",
    "   \n",
    "   Example:\n",
    "      > wrong_add_function([1,2,3],[1,1,1])\n",
    "      > [6,9,12]\n",
    "\n",
    "   whereas the expected correct answer is, [2,3,4]\n",
    "\n",
    "   Parameters\n",
    "   ----------\n",
    "   arg1 : list\n",
    "      list of integers.\n",
    "   arg2 : list\n",
    "      list of integers.\n",
    "\n",
    "   Returns\n",
    "   -------\n",
    "   arg1 : list\n",
    "      Elements of arg1, with each element having had the contents of \n",
    "      arg2 added to it.\n",
    "\n",
    "   '''\n",
    "   arg1_index=0\n",
    "   while arg1_index < len(arg1):\n",
    "      arg_2_sum = 0\n",
    "      for arg2_elements in arg2:\n",
    "         arg_2_sum = sum([arg1[arg1_index]+i for i in arg2])\n",
    "      arg1[arg1_index]=arg_2_sum  \n",
    "      arg1_index+=1\n",
    "   return arg1\n",
    "\n",
    "arg1 = [1,2,3]\n",
    "arg2 = [1,1,1]\n",
    "\n",
    "wrong_add_function(arg1, arg2)\n",
    "\n",
    "#%% try, except"
   ]
  },
  {
   "cell_type": "markdown",
   "id": "35db9db2",
   "metadata": {},
   "source": [
    "----------"
   ]
  },
  {
   "cell_type": "markdown",
   "id": "28980d3f",
   "metadata": {},
   "source": [
    "# Problem 1"
   ]
  },
  {
   "cell_type": "markdown",
   "id": "be5a17ef",
   "metadata": {},
   "source": [
    "## 1.a"
   ]
  },
  {
   "cell_type": "markdown",
   "id": "96b04f4e",
   "metadata": {},
   "source": [
    "Using the print() function only, get the wrong_add_function to print out where\n",
    "it is making a mistake, given the expected output for ex, \"we are making an error \n",
    "in the loop\", which you would put near the loop. \n",
    "Structure the print() statement to show what the expected output ought to be\n",
    "via f-strings: ie \"The correct answer is supposed to be: [...]\"."
   ]
  },
  {
   "cell_type": "code",
   "execution_count": 36,
   "id": "34a696bb",
   "metadata": {},
   "outputs": [
    {
     "name": "stdout",
     "output_type": "stream",
     "text": [
      "6\n",
      "We are making an error in the loop. The correct answer should be: 2\n",
      "9\n",
      "We are making an error in the loop. The correct answer should be: 3\n",
      "12\n",
      "We are making an error in the loop. The correct answer should be: 4\n"
     ]
    },
    {
     "data": {
      "text/plain": [
       "[6, 9, 12]"
      ]
     },
     "execution_count": 36,
     "metadata": {},
     "output_type": "execute_result"
    }
   ],
   "source": [
    "def wrong_add_function(arg1,arg2):\n",
    "   arg1_index=0\n",
    "   while arg1_index < len(arg1):\n",
    "      arg_2_sum = 0\n",
    "      for arg2_elements in arg2:\n",
    "        \n",
    "        #The error seems to be in the statement below:\n",
    "         arg_2_sum = sum([arg1[arg1_index]+i for i in arg2])\n",
    "         \n",
    "      print(arg_2_sum)\n",
    "      print(f\"We are making an error in the loop. The correct answer should be: {sum([arg1[arg1_index]+arg2_elements])}\")\n",
    "      arg1[arg1_index]=arg_2_sum  \n",
    "      arg1_index+=1\n",
    "   return arg1\n",
    "\n",
    "arg1 = [1,2,3]\n",
    "arg2 = [1,1,1]\n",
    "\n",
    "wrong_add_function(arg1, arg2)"
   ]
  },
  {
   "cell_type": "markdown",
   "id": "df9239c7",
   "metadata": {},
   "source": [
    "----------"
   ]
  },
  {
   "cell_type": "markdown",
   "id": "978bde22",
   "metadata": {},
   "source": [
    "## 1.b"
   ]
  },
  {
   "cell_type": "markdown",
   "id": "2a94652e",
   "metadata": {},
   "source": [
    "Then, changing as little as possible, modify the function, using the same \n",
    "general structure to output the correct answer. Call this new function \n",
    "correct_add_function()"
   ]
  },
  {
   "cell_type": "code",
   "execution_count": 19,
   "id": "2b5a42b2",
   "metadata": {},
   "outputs": [
    {
     "data": {
      "text/plain": [
       "[2, 3, 4]"
      ]
     },
     "execution_count": 19,
     "metadata": {},
     "output_type": "execute_result"
    }
   ],
   "source": [
    "def correct_add_function(arg1,arg2):\n",
    "   arg1_index=0\n",
    "   while arg1_index < len(arg1):\n",
    "      arg_2_sum = 0\n",
    "      for arg2_elements in arg2:\n",
    "            \n",
    "        # Change \"i for i in arg2\" to \"arg2_elements\"\n",
    "         arg_2_sum = sum([arg1[arg1_index]+arg2_elements])\n",
    "      arg1[arg1_index]=arg_2_sum  \n",
    "      arg1_index+=1\n",
    "   return arg1\n",
    "\n",
    "arg1 = [1,2,3]\n",
    "arg2 = [1,1,1]\n",
    "\n",
    "correct_add_function(arg1, arg2)"
   ]
  },
  {
   "cell_type": "markdown",
   "id": "f5da987b",
   "metadata": {},
   "source": [
    "-------"
   ]
  },
  {
   "cell_type": "markdown",
   "id": "d890b331",
   "metadata": {},
   "source": [
    "# Problem 2"
   ]
  },
  {
   "cell_type": "markdown",
   "id": "71553069",
   "metadata": {},
   "source": [
    "## 2.a"
   ]
  },
  {
   "cell_type": "markdown",
   "id": "aec08825",
   "metadata": {},
   "source": [
    "Update the numeric section of the function with your changes from 1 for both \n",
    "2.b and 2.c"
   ]
  },
  {
   "cell_type": "code",
   "execution_count": 89,
   "id": "194bc26a",
   "metadata": {},
   "outputs": [
    {
     "data": {
      "text/plain": [
       "[2, 3, 4]"
      ]
     },
     "execution_count": 89,
     "metadata": {},
     "output_type": "execute_result"
    }
   ],
   "source": [
    "def wrong_add_function(arg1,arg2):\n",
    "   '''\n",
    "   The function takes in two lists of integers, then it adds\n",
    "   all of arg2 to each item of arg1.\n",
    "   \n",
    "   Example:\n",
    "      > wrong_add_function([1,2,3],[1,1,1])\n",
    "      > [4,5,6]\n",
    "   \n",
    "   If the lists are lists of strings, concatenate them\n",
    "   Example:\n",
    "      > wrong_add_function(['1','2','3'],['1','1','1'])\n",
    "      > ['1111','2111','3111']\n",
    "   Parameters\n",
    "   ----------\n",
    "   arg1 : list\n",
    "      list of integers.\n",
    "   arg2 : list\n",
    "      list of integers.\n",
    "\n",
    "   Returns\n",
    "   -------\n",
    "   arg1 : list\n",
    "      Elements of arg1, with each element having had the contents of \n",
    "      arg2 added to it.\n",
    "\n",
    "   '''\n",
    "   #numeric section\n",
    "   if sum([type(i)==int for i in arg1])==len(arg1) and \\\n",
    "      sum([type(i)==int for i in arg2])==len(arg2):\n",
    "         arg1_index=0\n",
    "         while arg1_index < len(arg1):\n",
    "            arg_2_sum = 0\n",
    "            for arg2_elements in arg2:\n",
    "               arg_2_sum = sum([arg1[arg1_index]+arg2_elements])\n",
    "            arg1[arg1_index]=arg_2_sum  \n",
    "            arg1_index+=1\n",
    "         return arg1\n",
    "   #string section\n",
    "   elif sum([type(i)==str for i in arg1])==len(arg1) and \\\n",
    "      sum([type(i)==str for i in arg2])==len(arg2):\n",
    "         arg1_index=0\n",
    "         while arg1_index < len(arg1):\n",
    "            arg_2_sum = ''\n",
    "            for arg2_elements in arg2:\n",
    "               arg_2_sum += arg2_elements\n",
    "            arg1[arg1_index]=arg1[arg1_index]+str(arg_2_sum)\n",
    "            arg1_index+=1\n",
    "         return arg1\n",
    "arg_str_1=[1,2,3]\n",
    "arg_str_2=[1,1, 1]\n",
    "\n",
    "wrong_add_function(arg_str_1,arg_str_2)"
   ]
  },
  {
   "cell_type": "markdown",
   "id": "b485685b",
   "metadata": {},
   "source": [
    "------"
   ]
  },
  {
   "cell_type": "markdown",
   "id": "222ee605",
   "metadata": {},
   "source": [
    "## 2.b"
   ]
  },
  {
   "cell_type": "markdown",
   "id": "508ef7c9",
   "metadata": {},
   "source": [
    "Without modifying the string section code itself or the input directly, \n",
    "write a try, except block that catches the issue with the input below and \n",
    "returns an error message to the user, in case users give invalid inputs,\n",
    "(for example an input of [\"5\",\"2\", 5])\n",
    ": \"Your input argument [1 or 2] at element [n]\n",
    "is not of the expected type. Please change this and rerun. Name this function \n",
    "exception_add_function()"
   ]
  },
  {
   "cell_type": "code",
   "execution_count": 113,
   "id": "256c9669",
   "metadata": {},
   "outputs": [
    {
     "name": "stdout",
     "output_type": "stream",
     "text": [
      "Your input argument 1 at element 0 is not the expected type.\n",
      "Your input argument 1 at element 0 is not the expected type.\n",
      "Your input argument 1 at element 0 is not the expected type.\n",
      "Your input argument 1 at element 1 is not the expected type.\n",
      "Your input argument 1 at element 1 is not the expected type.\n",
      "Your input argument 1 at element 1 is not the expected type.\n",
      "Your input argument 1 at element 2 is not the expected type.\n",
      "Your input argument 1 at element 2 is not the expected type.\n",
      "Your input argument 1 at element 2 is not the expected type.\n"
     ]
    },
    {
     "data": {
      "text/plain": [
       "['Err', 'Err', 'Err']"
      ]
     },
     "execution_count": 113,
     "metadata": {},
     "output_type": "execute_result"
    }
   ],
   "source": [
    "def exception_add_function(arg1,arg2):\n",
    "   #numeric section\n",
    "   if sum([type(i)==int for i in arg1])==len(arg1) and \\\n",
    "      sum([type(i)==int for i in arg2])==len(arg2):\n",
    "         arg1_index=0\n",
    "         while arg1_index < len(arg1):\n",
    "            arg_2_sum = 0\n",
    "            for arg2_elements in arg2:\n",
    "               arg_2_sum = sum([arg1[arg1_index]+i for i in arg2])\n",
    "            arg1[arg1_index]=arg_2_sum  \n",
    "            arg1_index+=1\n",
    "         return arg1\n",
    "\n",
    "   #string section\n",
    "   elif sum([type(i)==str for i in arg1])==len(arg1) and \\\n",
    "      sum([type(i)==str for i in arg2])==len(arg2):\n",
    "         arg1_index=0\n",
    "         while arg1_index < len(arg1):\n",
    "            arg_2_sum = ''\n",
    "            for arg2_elements in arg2:\n",
    "               arg_2_sum += arg2_elements\n",
    "            arg1[arg1_index]=arg1[arg1_index]+str(arg_2_sum)\n",
    "            arg1_index+=1\n",
    "         return arg1\n",
    "    \n",
    "    #Error Section\n",
    "   else:\n",
    "        arg1_index=0\n",
    "        while arg1_index < len(arg1):\n",
    "           arg_2_sum = 0\n",
    "           arg_2_index = 0\n",
    "           for arg2_elements in arg2:\n",
    "              try:\n",
    "                 arg_2_sum = sum([arg1[arg1_index]+arg2_elements])\n",
    "              except:\n",
    "                 err_arg = \"\"\n",
    "                 if not isinstance(arg1[arg1_index], int):\n",
    "                     err_arg = 1\n",
    "                     err_ele = arg1_index\n",
    "                 elif not isinstance(arg2_elements, int):\n",
    "                     err_arg = 2\n",
    "                     err_ele = arg_2_index\n",
    "                 print(f\"Your input argument {err_arg} at element {err_ele} is not the expected type.\")\n",
    "                 arg_2_sum = \"Err\"\n",
    "              arg_2_index+=1\n",
    "           arg1[arg1_index]=arg_2_sum  \n",
    "           arg1_index+=1\n",
    "        return arg1\n",
    "        \n",
    "arg_str_1=['1','2','3']\n",
    "arg_str_2=['1','1', 1]\n",
    "\n",
    "exception_add_function(arg_str_1,arg_str_2)"
   ]
  },
  {
   "cell_type": "markdown",
   "id": "f203a261",
   "metadata": {},
   "source": [
    "-----"
   ]
  },
  {
   "cell_type": "markdown",
   "id": "41ce1a51",
   "metadata": {},
   "source": [
    "## 2.c"
   ]
  },
  {
   "cell_type": "markdown",
   "id": "b5da3b39",
   "metadata": {},
   "source": [
    "Without modifying the string section code itself or the input directly, \n",
    "write a try, except block that catches the issue with the input below and \n",
    "gets it to process via the string section. IE, do not, outside the function,\n",
    "change the values of arg_str_1 or arg_str_2. Name this function \n",
    "correction_add_function(), i.e you will not be updating the wrong_add_function,\n",
    "you will simply handle the error of wrong inputs in a seperate function, you want\n",
    "the wrong_add_function to output its current result you are only bolstering the \n",
    "function for edge cases."
   ]
  },
  {
   "cell_type": "code",
   "execution_count": 64,
   "id": "6a8664e3",
   "metadata": {},
   "outputs": [],
   "source": [
    "def wrong_add_function(arg1,arg2):\n",
    "   #numeric section\n",
    "   if sum([type(i)==int for i in arg1])==len(arg1) and \\\n",
    "      sum([type(i)==int for i in arg2])==len(arg2):\n",
    "         arg1_index=0\n",
    "         while arg1_index < len(arg1):\n",
    "            arg_2_sum = 0\n",
    "            for arg2_elements in arg2:\n",
    "               arg_2_sum = sum([arg1[arg1_index]+arg2_elements])\n",
    "            arg1[arg1_index]=arg_2_sum  \n",
    "            arg1_index+=1\n",
    "         return arg1\n",
    "   #string section\n",
    "   elif sum([type(i)==str for i in arg1])==len(arg1) and \\\n",
    "      sum([type(i)==str for i in arg2])==len(arg2):\n",
    "         arg1_index=0\n",
    "         while arg1_index < len(arg1):\n",
    "            arg_2_sum = ''\n",
    "            for arg2_elements in arg2:\n",
    "               arg_2_sum += arg2_elements\n",
    "            arg1[arg1_index]=arg1[arg1_index]+str(arg_2_sum)\n",
    "            arg1_index+=1\n",
    "         return arg1\n",
    "arg_str_1=['1','2','3']\n",
    "arg_str_2=['1','1', 1]\n",
    "\n",
    "wrong_add_function(arg_str_1,arg_str_2)"
   ]
  },
  {
   "cell_type": "code",
   "execution_count": 86,
   "id": "4e733329",
   "metadata": {},
   "outputs": [
    {
     "name": "stdout",
     "output_type": "stream",
     "text": [
      "Your input argument 1 at element 0 is not the expected type.\n",
      "Your input argument 1 at element 0 is not the expected type.\n",
      "Your input argument 1 at element 0 is not the expected type.\n",
      "Your input argument 1 at element 1 is not the expected type.\n",
      "Your input argument 1 at element 1 is not the expected type.\n",
      "Your input argument 1 at element 1 is not the expected type.\n"
     ]
    },
    {
     "data": {
      "text/plain": [
       "['Err', 'Err', 6]"
      ]
     },
     "execution_count": 86,
     "metadata": {},
     "output_type": "execute_result"
    }
   ],
   "source": [
    "def exception_add_function(arg1,arg2):\n",
    "   arg1_index=0\n",
    "   while arg1_index < len(arg1):\n",
    "      arg_2_sum = 0\n",
    "    \n",
    "      arg_2_index = 0\n",
    "      \n",
    "      for arg2_elements in arg2:\n",
    "            \n",
    "         try:\n",
    "            arg_2_sum = sum([arg1[arg1_index]+arg2_elements])\n",
    "            \n",
    "         except:\n",
    "            err_arg = \"\"\n",
    "            # If the data point is not a float or integer it records the arg number and index.\n",
    "            if not (isinstance(arg1[arg1_index], int) or isinstance(arg1[arg1_index], float)):\n",
    "                err_arg = 1\n",
    "                err_ele = arg1_index\n",
    "            elif not (isinstance(arg2_elements, int) or isinstance(arg2_elements, float)):\n",
    "                err_arg = 2\n",
    "                err_ele = arg_2_index\n",
    "            print(f\"Your input argument {err_arg} at element {err_ele} is not the expected type.\")\n",
    "            arg_2_sum = \"Err\"\n",
    "         arg_2_index+=1\n",
    "        \n",
    "      arg1[arg1_index]=arg_2_sum  \n",
    "      arg1_index+=1\n",
    "   return arg1\n",
    "\n",
    "arg1 = [\"5\",\"2\", 5]\n",
    "arg2 = [1,1,1]\n",
    "\n",
    "exception_add_function(arg1, arg2)"
   ]
  },
  {
   "cell_type": "code",
   "execution_count": null,
   "id": "672f3fcb",
   "metadata": {},
   "outputs": [],
   "source": []
  }
 ],
 "metadata": {
  "kernelspec": {
   "display_name": "Python 3 (ipykernel)",
   "language": "python",
   "name": "python3"
  },
  "language_info": {
   "codemirror_mode": {
    "name": "ipython",
    "version": 3
   },
   "file_extension": ".py",
   "mimetype": "text/x-python",
   "name": "python",
   "nbconvert_exporter": "python",
   "pygments_lexer": "ipython3",
   "version": "3.9.12"
  }
 },
 "nbformat": 4,
 "nbformat_minor": 5
}
